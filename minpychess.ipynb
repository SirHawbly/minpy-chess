{
 "cells": [
  {
   "cell_type": "code",
   "execution_count": 43,
   "metadata": {},
   "outputs": [
    {
     "name": "stdout",
     "output_type": "stream",
     "text": [
      "\r\n",
      "\r\n",
      "    Done\r\n",
      "\r\n",
      "    ----\r\n",
      "\r\n",
      "\r\n",
      "    _X_ make a chess board\r\n",
      "\r\n",
      "    _X_ make a move generator\r\n",
      "\r\n",
      "    _X_ make a random player\r\n",
      "\r\n",
      "    _X_ make a human player\r\n",
      "\r\n",
      "    _X_ write asserts for type of passed things\r\n",
      "\r\n",
      "    _X_ create unit tests for move generator\r\n",
      "\r\n",
      "    _X_ make functions for testing boards/frames\r\n",
      "\r\n",
      "    _?_ use asserts for type of passed things in functions\r\n",
      "\r\n",
      "    _X_ negamax\r\n",
      "\r\n",
      "    _X_ End\r\n",
      "\r\n",
      "\r\n",
      "\r\n",
      "\r\n",
      "\r\n",
      "    in prog\r\n",
      "\r\n",
      "    -------\r\n",
      "\r\n",
      "\r\n",
      "    ___ make five structs:\r\n",
      " \r\n",
      "        ___ pc[typ,col],\r\n",
      "\r\n",
      "        ___ coord[typ,y,x],\r\n",
      "\r\n",
      "        ___ mv[y1,x1,y2,x2],\r\n",
      "\r\n",
      "        ___ board,\r\n",
      "\r\n",
      "        ___ frame\r\n",
      "\r\n",
      "    ___ convert functions to take a struct not list\r\n",
      "\r\n",
      "    _I_ create unit tests for negamax\r\n",
      "\r\n",
      "    ___ alphabeta pruning\r\n",
      "\r\n",
      "    ___ create unit tests for alphabeta pruning\r\n",
      "\r\n",
      "    ___ repurpose networking code\r\n",
      "\r\n",
      "    ___ check standardization of functions\r\n",
      "\r\n",
      "    _X_ End\r\n",
      "\r\n",
      "\r\n",
      "\r\n",
      "\r\n",
      "\r\n",
      "    stretch goals\r\n",
      "\r\n",
      "    -------------\r\n",
      "\r\n",
      "\r\n",
      "    _X_ End\r\n",
      "\r\n",
      "\r\n",
      "\r\n"
     ]
    }
   ],
   "source": [
    "!python3 todo.py"
   ]
  },
  {
   "cell_type": "code",
   "execution_count": 40,
   "metadata": {},
   "outputs": [],
   "source": [
    "#!python3 py_chess.py"
   ]
  }
 ],
 "metadata": {
  "kernelspec": {
   "display_name": "Python 3",
   "language": "python",
   "name": "python3"
  },
  "language_info": {
   "codemirror_mode": {
    "name": "ipython",
    "version": 3
   },
   "file_extension": ".py",
   "mimetype": "text/x-python",
   "name": "python",
   "nbconvert_exporter": "python",
   "pygments_lexer": "ipython3",
   "version": "3.6.4"
  }
 },
 "nbformat": 4,
 "nbformat_minor": 2
}
